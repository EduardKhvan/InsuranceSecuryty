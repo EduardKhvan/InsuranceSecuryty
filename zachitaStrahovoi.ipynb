{
 "cells": [
  {
   "cell_type": "markdown",
   "metadata": {},
   "source": [
    "# Описание проекта"
   ]
  },
  {
   "cell_type": "markdown",
   "metadata": {},
   "source": [
    "**Защита данных клиентов страховой компании**\n",
    "\n",
    "**Нужно защитить данные клиентов страховой компании «Хоть потоп».**\n",
    "* Разработаем такой метод преобразования данных, чтобы по ним было сложно восстановить персональную информацию.\n",
    "* Обоснуем корректность его работы.\n",
    "* Нужно защитить данные, чтобы при преобразовании качество моделей машинного обучения не ухудшилось.\n",
    "* Подбирать наилучшую модель не требуется.\n",
    "\n",
    "**Проект состоит из 5 частей.**\n",
    "\n",
    "1. Загрузка данных\n",
    "  - Импорт библиотек\n",
    "  - Чтение файла и изучение данных\n",
    "2. Умножение матриц\n",
    "3. Алгоритм преобразования\n",
    "4. Проверка алгоритма\n",
    "  - Преобразования данных\n",
    "  - Обучение модели\n",
    "5. Вывод"
   ]
  },
  {
   "cell_type": "markdown",
   "metadata": {},
   "source": [
    "## Загрузка данных"
   ]
  },
  {
   "cell_type": "markdown",
   "metadata": {},
   "source": [
    "Импорт библиотек"
   ]
  },
  {
   "cell_type": "code",
   "execution_count": 1,
   "metadata": {},
   "outputs": [],
   "source": [
    "import matplotlib.pyplot as plt\n",
    "import numpy as np\n",
    "import pandas as pd\n",
    "import seaborn as sns\n",
    "\n",
    "sns.set_style('darkgrid')\n",
    "sns.set_palette('muted')\n",
    "\n",
    "from sklearn.datasets import make_spd_matrix\n",
    "from sklearn.linear_model import LinearRegression\n",
    "from sklearn.metrics import r2_score\n",
    "from sklearn.model_selection import train_test_split"
   ]
  },
  {
   "cell_type": "markdown",
   "metadata": {},
   "source": [
    "Чтение файла и изучение данных"
   ]
  },
  {
   "cell_type": "code",
   "execution_count": 2,
   "metadata": {},
   "outputs": [],
   "source": [
    "data = pd.read_csv('/datasets/insurance.csv')     # исходные данные"
   ]
  },
  {
   "cell_type": "code",
   "execution_count": 3,
   "metadata": {},
   "outputs": [
    {
     "data": {
      "text/html": [
       "<div>\n",
       "<style scoped>\n",
       "    .dataframe tbody tr th:only-of-type {\n",
       "        vertical-align: middle;\n",
       "    }\n",
       "\n",
       "    .dataframe tbody tr th {\n",
       "        vertical-align: top;\n",
       "    }\n",
       "\n",
       "    .dataframe thead th {\n",
       "        text-align: right;\n",
       "    }\n",
       "</style>\n",
       "<table border=\"1\" class=\"dataframe\">\n",
       "  <thead>\n",
       "    <tr style=\"text-align: right;\">\n",
       "      <th></th>\n",
       "      <th>Пол</th>\n",
       "      <th>Возраст</th>\n",
       "      <th>Зарплата</th>\n",
       "      <th>Члены семьи</th>\n",
       "      <th>Страховые выплаты</th>\n",
       "    </tr>\n",
       "  </thead>\n",
       "  <tbody>\n",
       "    <tr>\n",
       "      <td>0</td>\n",
       "      <td>1</td>\n",
       "      <td>41.0</td>\n",
       "      <td>49600.0</td>\n",
       "      <td>1</td>\n",
       "      <td>0</td>\n",
       "    </tr>\n",
       "    <tr>\n",
       "      <td>1</td>\n",
       "      <td>0</td>\n",
       "      <td>46.0</td>\n",
       "      <td>38000.0</td>\n",
       "      <td>1</td>\n",
       "      <td>1</td>\n",
       "    </tr>\n",
       "    <tr>\n",
       "      <td>2</td>\n",
       "      <td>0</td>\n",
       "      <td>29.0</td>\n",
       "      <td>21000.0</td>\n",
       "      <td>0</td>\n",
       "      <td>0</td>\n",
       "    </tr>\n",
       "    <tr>\n",
       "      <td>3</td>\n",
       "      <td>0</td>\n",
       "      <td>21.0</td>\n",
       "      <td>41700.0</td>\n",
       "      <td>2</td>\n",
       "      <td>0</td>\n",
       "    </tr>\n",
       "    <tr>\n",
       "      <td>4</td>\n",
       "      <td>1</td>\n",
       "      <td>28.0</td>\n",
       "      <td>26100.0</td>\n",
       "      <td>0</td>\n",
       "      <td>0</td>\n",
       "    </tr>\n",
       "  </tbody>\n",
       "</table>\n",
       "</div>"
      ],
      "text/plain": [
       "   Пол  Возраст  Зарплата  Члены семьи  Страховые выплаты\n",
       "0    1     41.0   49600.0            1                  0\n",
       "1    0     46.0   38000.0            1                  1\n",
       "2    0     29.0   21000.0            0                  0\n",
       "3    0     21.0   41700.0            2                  0\n",
       "4    1     28.0   26100.0            0                  0"
      ]
     },
     "metadata": {},
     "output_type": "display_data"
    }
   ],
   "source": [
    "display(data.head(5))"
   ]
  },
  {
   "cell_type": "markdown",
   "metadata": {},
   "source": [
    "Промежуточный вывод:\n",
    "* датафрейм содержит 4 признака и 1 целевой признак (страховые выплаты клиенту за последние 5 лет)\n",
    "* все признаки — количественные\n",
    "* пропуски в данных отсутствуют."
   ]
  },
  {
   "cell_type": "markdown",
   "metadata": {},
   "source": [
    "Для удобства переименуем столбцы\n",
    "для признаков age, family_members и insurance_benefits приведем их к типу данных int,\n",
    "проверим данные на дубликаты\n",
    "визуализируем признаки и посмотрим на корреляцию между признаками."
   ]
  },
  {
   "cell_type": "markdown",
   "metadata": {},
   "source": [
    "Переименуем столбцы:"
   ]
  },
  {
   "cell_type": "code",
   "execution_count": 4,
   "metadata": {},
   "outputs": [
    {
     "data": {
      "text/html": [
       "<div>\n",
       "<style scoped>\n",
       "    .dataframe tbody tr th:only-of-type {\n",
       "        vertical-align: middle;\n",
       "    }\n",
       "\n",
       "    .dataframe tbody tr th {\n",
       "        vertical-align: top;\n",
       "    }\n",
       "\n",
       "    .dataframe thead th {\n",
       "        text-align: right;\n",
       "    }\n",
       "</style>\n",
       "<table border=\"1\" class=\"dataframe\">\n",
       "  <thead>\n",
       "    <tr style=\"text-align: right;\">\n",
       "      <th></th>\n",
       "      <th>sex</th>\n",
       "      <th>age</th>\n",
       "      <th>salary</th>\n",
       "      <th>family_members</th>\n",
       "      <th>insurance_benefits</th>\n",
       "    </tr>\n",
       "  </thead>\n",
       "  <tbody>\n",
       "    <tr>\n",
       "      <td>1713</td>\n",
       "      <td>1</td>\n",
       "      <td>35.0</td>\n",
       "      <td>42600.0</td>\n",
       "      <td>0</td>\n",
       "      <td>0</td>\n",
       "    </tr>\n",
       "  </tbody>\n",
       "</table>\n",
       "</div>"
      ],
      "text/plain": [
       "      sex   age   salary  family_members  insurance_benefits\n",
       "1713    1  35.0  42600.0               0                   0"
      ]
     },
     "metadata": {},
     "output_type": "display_data"
    }
   ],
   "source": [
    "data.rename(columns={'Пол': 'sex', 'Возраст': 'age', 'Зарплата': 'salary', 'Члены семьи': 'family_members', \n",
    "                     'Страховые выплаты': 'insurance_benefits'}, inplace=True)\n",
    "display(data.sample())"
   ]
  },
  {
   "cell_type": "markdown",
   "metadata": {},
   "source": [
    "Приведем тип данных для признаков age, family_members и insurance_benefits к int"
   ]
  },
  {
   "cell_type": "code",
   "execution_count": 5,
   "metadata": {},
   "outputs": [],
   "source": [
    "to_int = ['age', 'family_members', 'insurance_benefits']\n",
    "data[to_int] = data[to_int].astype('int')"
   ]
  },
  {
   "cell_type": "code",
   "execution_count": 6,
   "metadata": {},
   "outputs": [
    {
     "data": {
      "text/plain": [
       "age                   int64\n",
       "family_members        int64\n",
       "insurance_benefits    int64\n",
       "dtype: object"
      ]
     },
     "metadata": {},
     "output_type": "display_data"
    }
   ],
   "source": [
    "display(data[to_int].dtypes)"
   ]
  },
  {
   "cell_type": "markdown",
   "metadata": {},
   "source": [
    "Проверим данные на дубликаты."
   ]
  },
  {
   "cell_type": "code",
   "execution_count": 7,
   "metadata": {},
   "outputs": [
    {
     "data": {
      "text/plain": [
       "False    4847\n",
       "True      153\n",
       "dtype: int64"
      ]
     },
     "metadata": {},
     "output_type": "display_data"
    }
   ],
   "source": [
    "display(data.duplicated().value_counts())"
   ]
  },
  {
   "cell_type": "markdown",
   "metadata": {},
   "source": [
    "Данные содержат дубликаты, обработаем их."
   ]
  },
  {
   "cell_type": "code",
   "execution_count": 8,
   "metadata": {},
   "outputs": [],
   "source": [
    "data.drop_duplicates(inplace=True)\n",
    "data.reset_index(inplace=True, drop=True)"
   ]
  },
  {
   "cell_type": "code",
   "execution_count": 9,
   "metadata": {},
   "outputs": [
    {
     "name": "stdout",
     "output_type": "stream",
     "text": [
      "<class 'pandas.core.frame.DataFrame'>\n",
      "RangeIndex: 4847 entries, 0 to 4846\n",
      "Data columns (total 5 columns):\n",
      "sex                   4847 non-null int64\n",
      "age                   4847 non-null int64\n",
      "salary                4847 non-null float64\n",
      "family_members        4847 non-null int64\n",
      "insurance_benefits    4847 non-null int64\n",
      "dtypes: float64(1), int64(4)\n",
      "memory usage: 189.5 KB\n"
     ]
    }
   ],
   "source": [
    "data.info()"
   ]
  },
  {
   "cell_type": "markdown",
   "metadata": {},
   "source": [
    "Исследуем признаки более подробно:\n",
    "\n",
    "методом describe посмотрим общую статистическую информацию о каждом признаке\n",
    "визуализируем графики\n",
    "построим матрицу корреляций."
   ]
  },
  {
   "cell_type": "code",
   "execution_count": 10,
   "metadata": {},
   "outputs": [
    {
     "data": {
      "text/html": [
       "<div>\n",
       "<style scoped>\n",
       "    .dataframe tbody tr th:only-of-type {\n",
       "        vertical-align: middle;\n",
       "    }\n",
       "\n",
       "    .dataframe tbody tr th {\n",
       "        vertical-align: top;\n",
       "    }\n",
       "\n",
       "    .dataframe thead th {\n",
       "        text-align: right;\n",
       "    }\n",
       "</style>\n",
       "<table border=\"1\" class=\"dataframe\">\n",
       "  <thead>\n",
       "    <tr style=\"text-align: right;\">\n",
       "      <th></th>\n",
       "      <th>sex</th>\n",
       "      <th>age</th>\n",
       "      <th>salary</th>\n",
       "      <th>family_members</th>\n",
       "      <th>insurance_benefits</th>\n",
       "    </tr>\n",
       "  </thead>\n",
       "  <tbody>\n",
       "    <tr>\n",
       "      <td>count</td>\n",
       "      <td>4847.000000</td>\n",
       "      <td>4847.000000</td>\n",
       "      <td>4847.000000</td>\n",
       "      <td>4847.000000</td>\n",
       "      <td>4847.000000</td>\n",
       "    </tr>\n",
       "    <tr>\n",
       "      <td>mean</td>\n",
       "      <td>0.498453</td>\n",
       "      <td>31.023932</td>\n",
       "      <td>39895.811842</td>\n",
       "      <td>1.203425</td>\n",
       "      <td>0.152259</td>\n",
       "    </tr>\n",
       "    <tr>\n",
       "      <td>std</td>\n",
       "      <td>0.500049</td>\n",
       "      <td>8.487995</td>\n",
       "      <td>9972.953985</td>\n",
       "      <td>1.098664</td>\n",
       "      <td>0.468934</td>\n",
       "    </tr>\n",
       "    <tr>\n",
       "      <td>min</td>\n",
       "      <td>0.000000</td>\n",
       "      <td>18.000000</td>\n",
       "      <td>5300.000000</td>\n",
       "      <td>0.000000</td>\n",
       "      <td>0.000000</td>\n",
       "    </tr>\n",
       "    <tr>\n",
       "      <td>25%</td>\n",
       "      <td>0.000000</td>\n",
       "      <td>24.000000</td>\n",
       "      <td>33200.000000</td>\n",
       "      <td>0.000000</td>\n",
       "      <td>0.000000</td>\n",
       "    </tr>\n",
       "    <tr>\n",
       "      <td>50%</td>\n",
       "      <td>0.000000</td>\n",
       "      <td>30.000000</td>\n",
       "      <td>40200.000000</td>\n",
       "      <td>1.000000</td>\n",
       "      <td>0.000000</td>\n",
       "    </tr>\n",
       "    <tr>\n",
       "      <td>75%</td>\n",
       "      <td>1.000000</td>\n",
       "      <td>37.000000</td>\n",
       "      <td>46600.000000</td>\n",
       "      <td>2.000000</td>\n",
       "      <td>0.000000</td>\n",
       "    </tr>\n",
       "    <tr>\n",
       "      <td>max</td>\n",
       "      <td>1.000000</td>\n",
       "      <td>65.000000</td>\n",
       "      <td>79000.000000</td>\n",
       "      <td>6.000000</td>\n",
       "      <td>5.000000</td>\n",
       "    </tr>\n",
       "  </tbody>\n",
       "</table>\n",
       "</div>"
      ],
      "text/plain": [
       "               sex          age        salary  family_members  \\\n",
       "count  4847.000000  4847.000000   4847.000000     4847.000000   \n",
       "mean      0.498453    31.023932  39895.811842        1.203425   \n",
       "std       0.500049     8.487995   9972.953985        1.098664   \n",
       "min       0.000000    18.000000   5300.000000        0.000000   \n",
       "25%       0.000000    24.000000  33200.000000        0.000000   \n",
       "50%       0.000000    30.000000  40200.000000        1.000000   \n",
       "75%       1.000000    37.000000  46600.000000        2.000000   \n",
       "max       1.000000    65.000000  79000.000000        6.000000   \n",
       "\n",
       "       insurance_benefits  \n",
       "count         4847.000000  \n",
       "mean             0.152259  \n",
       "std              0.468934  \n",
       "min              0.000000  \n",
       "25%              0.000000  \n",
       "50%              0.000000  \n",
       "75%              0.000000  \n",
       "max              5.000000  "
      ]
     },
     "metadata": {},
     "output_type": "display_data"
    }
   ],
   "source": [
    "display(data.describe())"
   ]
  },
  {
   "cell_type": "code",
   "execution_count": 11,
   "metadata": {
    "scrolled": false
   },
   "outputs": [
    {
     "data": {
      "image/png": "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\n",
      "text/plain": [
       "<Figure size 720x432 with 1 Axes>"
      ]
     },
     "metadata": {},
     "output_type": "display_data"
    },
    {
     "data": {
      "image/png": "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\n",
      "text/plain": [
       "<Figure size 720x432 with 1 Axes>"
      ]
     },
     "metadata": {},
     "output_type": "display_data"
    },
    {
     "data": {
      "image/png": "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\n",
      "text/plain": [
       "<Figure size 720x432 with 1 Axes>"
      ]
     },
     "metadata": {},
     "output_type": "display_data"
    },
    {
     "data": {
      "image/png": "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\n",
      "text/plain": [
       "<Figure size 720x432 with 1 Axes>"
      ]
     },
     "metadata": {},
     "output_type": "display_data"
    },
    {
     "data": {
      "image/png": "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\n",
      "text/plain": [
       "<Figure size 720x432 with 1 Axes>"
      ]
     },
     "metadata": {},
     "output_type": "display_data"
    }
   ],
   "source": [
    "countplot = ['sex', 'age', 'family_members', 'insurance_benefits']\n",
    "displot = ['salary']\n",
    "\n",
    "for col in countplot:\n",
    "    values = data[col].value_counts()\n",
    "    plt.figure(figsize=(10,6))\n",
    "    values.plot(kind = 'bar')\n",
    "    plt.xticks(rotation=0)\n",
    "    plt.title(col)\n",
    "    \n",
    "for col in displot:\n",
    "    plt.figure(figsize=(10,6))\n",
    "    sns.distplot(data[col])\n",
    "    plt.title(col)"
   ]
  },
  {
   "cell_type": "markdown",
   "metadata": {},
   "source": [
    "**Промежуточный вывод:**\n",
    "* особых гендерных различий среди клиентов страховой не обнаружено.\n",
    "* чаще всего клиентами страховой компании становятся люди в возрасте от 18 до 42 года примерно.\n",
    "* большинство клиентов с одним членом семьи\n",
    "* большая часть клиентов (~88%) за последние 5 лет не получали страховые выплаты. ~8% клиентов получили выплату один раз\n",
    "* из графика распределение зарплаты видно, что большинство значений в диапазоне от 35 до 45 тысяч руб. в месяц.\n"
   ]
  },
  {
   "cell_type": "markdown",
   "metadata": {},
   "source": [
    "Посмотрим на корреляцию между признаками."
   ]
  },
  {
   "cell_type": "code",
   "execution_count": 12,
   "metadata": {},
   "outputs": [
    {
     "data": {
      "text/html": [
       "<div>\n",
       "<style scoped>\n",
       "    .dataframe tbody tr th:only-of-type {\n",
       "        vertical-align: middle;\n",
       "    }\n",
       "\n",
       "    .dataframe tbody tr th {\n",
       "        vertical-align: top;\n",
       "    }\n",
       "\n",
       "    .dataframe thead th {\n",
       "        text-align: right;\n",
       "    }\n",
       "</style>\n",
       "<table border=\"1\" class=\"dataframe\">\n",
       "  <thead>\n",
       "    <tr style=\"text-align: right;\">\n",
       "      <th></th>\n",
       "      <th>sex</th>\n",
       "      <th>age</th>\n",
       "      <th>salary</th>\n",
       "      <th>family_members</th>\n",
       "      <th>insurance_benefits</th>\n",
       "    </tr>\n",
       "  </thead>\n",
       "  <tbody>\n",
       "    <tr>\n",
       "      <td>sex</td>\n",
       "      <td>1.000000</td>\n",
       "      <td>0.001953</td>\n",
       "      <td>0.015456</td>\n",
       "      <td>-0.007315</td>\n",
       "      <td>0.011565</td>\n",
       "    </tr>\n",
       "    <tr>\n",
       "      <td>age</td>\n",
       "      <td>0.001953</td>\n",
       "      <td>1.000000</td>\n",
       "      <td>-0.017386</td>\n",
       "      <td>-0.009064</td>\n",
       "      <td>0.654964</td>\n",
       "    </tr>\n",
       "    <tr>\n",
       "      <td>salary</td>\n",
       "      <td>0.015456</td>\n",
       "      <td>-0.017386</td>\n",
       "      <td>1.000000</td>\n",
       "      <td>-0.031687</td>\n",
       "      <td>-0.013123</td>\n",
       "    </tr>\n",
       "    <tr>\n",
       "      <td>family_members</td>\n",
       "      <td>-0.007315</td>\n",
       "      <td>-0.009064</td>\n",
       "      <td>-0.031687</td>\n",
       "      <td>1.000000</td>\n",
       "      <td>-0.039303</td>\n",
       "    </tr>\n",
       "    <tr>\n",
       "      <td>insurance_benefits</td>\n",
       "      <td>0.011565</td>\n",
       "      <td>0.654964</td>\n",
       "      <td>-0.013123</td>\n",
       "      <td>-0.039303</td>\n",
       "      <td>1.000000</td>\n",
       "    </tr>\n",
       "  </tbody>\n",
       "</table>\n",
       "</div>"
      ],
      "text/plain": [
       "                         sex       age    salary  family_members  \\\n",
       "sex                 1.000000  0.001953  0.015456       -0.007315   \n",
       "age                 0.001953  1.000000 -0.017386       -0.009064   \n",
       "salary              0.015456 -0.017386  1.000000       -0.031687   \n",
       "family_members     -0.007315 -0.009064 -0.031687        1.000000   \n",
       "insurance_benefits  0.011565  0.654964 -0.013123       -0.039303   \n",
       "\n",
       "                    insurance_benefits  \n",
       "sex                           0.011565  \n",
       "age                           0.654964  \n",
       "salary                       -0.013123  \n",
       "family_members               -0.039303  \n",
       "insurance_benefits            1.000000  "
      ]
     },
     "metadata": {},
     "output_type": "display_data"
    }
   ],
   "source": [
    "correlation_map = data.corr()\n",
    "display(correlation_map)"
   ]
  },
  {
   "cell_type": "code",
   "execution_count": 13,
   "metadata": {},
   "outputs": [
    {
     "data": {
      "image/png": "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\n",
      "text/plain": [
       "<Figure size 432x432 with 2 Axes>"
      ]
     },
     "metadata": {},
     "output_type": "display_data"
    }
   ],
   "source": [
    "plt.figure(figsize = (6,6))\n",
    "plt.title('Корреляция между признаками', size=14)\n",
    "sns.heatmap(correlation_map, annot = True, square=True)\n",
    "plt.show()"
   ]
  },
  {
   "cell_type": "markdown",
   "metadata": {},
   "source": [
    "Заметная корреляция между признаком age и целевым признаком insurance_benefits (коэффициент корреляции = 0.65)."
   ]
  },
  {
   "cell_type": "markdown",
   "metadata": {},
   "source": [
    "\n",
    "\n",
    "**Промежуточный вывод:**\n",
    "* убедились, что данные не содержат пропуски\n",
    "* обработали данные: заменили тип данных для признаков age, family_members и insurance_benefits, переименовали признаки\n",
    "* подробно изучили каждый из признаков и выяснили, что:\n",
    " - особых гендерных различий среди клиентов страховой не обнаружено.\n",
    " - чаще всего клиентами страховой компании становятся люди в возрасте от 18 до ~42 года\n",
    " - большинство клиентов с одним членом семьи\n",
    " - большая часть клиентов (~88%) за последние 5 лет не получали страховые выплаты. ~8% клиентов получили выплату один раз\n",
    " - из графика распределение зарплаты видно, что большинство значений в диапазоне от 35 до 45 тысяч руб. в месяц."
   ]
  },
  {
   "cell_type": "markdown",
   "metadata": {},
   "source": [
    "## Умножение матриц"
   ]
  },
  {
   "cell_type": "markdown",
   "metadata": {},
   "source": [
    "Задача:\n",
    "* Ответим на вопрос и обоснуем решение. \n",
    "* Признаки умножим на обратимую матрицу. \n",
    "* Изменится ли качество линейной регрессии? (Её можно обучить заново.)"
   ]
  },
  {
   "cell_type": "markdown",
   "metadata": {},
   "source": [
    "Обозначения:\n",
    "\n",
    "- $X$ — матрица признаков (нулевой столбец состоит из единиц)\n",
    "\n",
    "- $y$ — вектор целевого признака\n",
    "\n",
    "- $P$ — матрица, на которую умножаются признаки\n",
    "\n",
    "- $w$ — вектор весов линейной регрессии (нулевой элемент равен сдвигу)"
   ]
  },
  {
   "cell_type": "markdown",
   "metadata": {},
   "source": [
    "Предсказания:\n",
    "\n",
    "$$\n",
    "a = Xw\n",
    "$$\n",
    "\n",
    "Задача обучения:\n",
    "\n",
    "$$\n",
    "w = \\arg\\min_w MSE(Xw, y)\n",
    "$$\n",
    "\n",
    "Формула обучения:\n",
    "\n",
    "$$\n",
    "w = (X^T X)^{-1} X^T y\n",
    "$$"
   ]
  },
  {
   "cell_type": "markdown",
   "metadata": {},
   "source": [
    "**Ответ: нет, не изменится.**\n",
    "\n",
    "**Обоснование:**\n",
    "\n",
    "Новая матрица признаков:\n",
    "\n",
    "$$X' = XP$$\n",
    "Таким образом новый вектор весов $w'$ можем расчитать следующим образом:\n",
    "\n",
    "$$w' = ((XP)^{T} XP)^{-1} (XP)^{T} y = \\\\ \n",
    "     = (P^{T}X^{T} XP)^{-1}P^{T}X^{T}y  = \\\\ \n",
    "     = P^{-1} (X^{T} X)^{-1} (P^{T})^{-1} P^{T}X^{T}y = \\\\ \n",
    "     = P^{-1} w, $$\n",
    "так как внутри формулы можно выделить формулу расчета $w$, а\n",
    "\n",
    "$$(P^{T})^{-1} P^{T} = Е = 1$$\n",
    "Таким образом:\n",
    "\n",
    "$$ a' = X'w' = XPP^{-1}w = XEw = Xw= a $$\n",
    "Тут можно отметить, что, если любую матрицу Р умножить на единичную (или наоборот), получится эта же матрица Р. Т.е., матрицы будут одинаковыми, а качество линейной регрессии не изменится.\n",
    "\n",
    "**Вывод: Предсказание модели не изменилось, значит, и качество осталось прежним**"
   ]
  },
  {
   "cell_type": "markdown",
   "metadata": {},
   "source": [
    "##  Алгоритм преобразования"
   ]
  },
  {
   "cell_type": "markdown",
   "metadata": {},
   "source": [
    "**Задача:**\n",
    "* Предложим алгоритм преобразования данных для решения задачи.\n",
    "* Обоснуем, почему качество линейной регрессии не поменяется.\n",
    "\n",
    "**Алгоритм:**\n",
    "\n",
    "* методом make_spd_matrix создаем случайную матрицу A\n",
    "\n",
    "* методом np.linalg.inv() проверяем матрицу А на обратимость и получаем $А^{-1}$. \n",
    "* если матрица А провалила тест на обратимость (вероятность этого очень маленькая), необходимо создать новую случайную матрицу.\n",
    "\n",
    "Поскольку нам надо закодировать данные клиентов, матрица А будет ключом кодирования.\n",
    "\n",
    "* умножаем матрицу признаков X на полученную матрицу А и получаем матрицу B с закодированными данными о клиентах:\n",
    "\n",
    "$$ B = X @ A $$\n",
    "После этого можно переходить к обучению модели линейной регрессии.\n",
    "\n",
    "**Обоснование:**\n",
    "\n",
    "* Такой алгоритм позволит защитить персональную информацию клиентов и при этом не должен влиять на работу модели (качество модели не изменится, если матрицу признаков умножать на обратимую модель)."
   ]
  },
  {
   "cell_type": "markdown",
   "metadata": {},
   "source": [
    "##  Проверка алгоритма"
   ]
  },
  {
   "cell_type": "markdown",
   "metadata": {},
   "source": [
    "Преобразования данных\n",
    "Сохраним признаки и целевой признак в отдельные переменные."
   ]
  },
  {
   "cell_type": "code",
   "execution_count": 14,
   "metadata": {},
   "outputs": [
    {
     "name": "stdout",
     "output_type": "stream",
     "text": [
      "Признаки (4847, 4)\n",
      "Целевой признак (4847,)\n"
     ]
    }
   ],
   "source": [
    "features = data.drop('insurance_benefits', axis=1)\n",
    "target = data['insurance_benefits']\n",
    "\n",
    "print('Признаки', features.shape)\n",
    "print('Целевой признак', target.shape)"
   ]
  },
  {
   "cell_type": "markdown",
   "metadata": {},
   "source": [
    "Создадим матрицу признаков."
   ]
  },
  {
   "cell_type": "code",
   "execution_count": 15,
   "metadata": {},
   "outputs": [
    {
     "data": {
      "text/plain": [
       "array([[1.00e+00, 4.10e+01, 4.96e+04, 1.00e+00],\n",
       "       [0.00e+00, 4.60e+01, 3.80e+04, 1.00e+00],\n",
       "       [0.00e+00, 2.90e+01, 2.10e+04, 0.00e+00],\n",
       "       ...,\n",
       "       [0.00e+00, 2.00e+01, 3.39e+04, 2.00e+00],\n",
       "       [1.00e+00, 2.20e+01, 3.27e+04, 3.00e+00],\n",
       "       [1.00e+00, 2.80e+01, 4.06e+04, 1.00e+00]])"
      ]
     },
     "metadata": {},
     "output_type": "display_data"
    }
   ],
   "source": [
    "features_matrix = features.values\n",
    "display(features_matrix)"
   ]
  },
  {
   "cell_type": "markdown",
   "metadata": {},
   "source": [
    "Методом make_spd_matrix создадим случайную матрицу."
   ]
  },
  {
   "cell_type": "code",
   "execution_count": 16,
   "metadata": {},
   "outputs": [
    {
     "data": {
      "text/plain": [
       "array([[ 0.47243659,  0.36201499,  0.23624413, -0.20756552],\n",
       "       [ 0.36201499,  3.26723888,  1.70966795, -0.39838002],\n",
       "       [ 0.23624413,  1.70966795,  1.32704651, -0.17893753],\n",
       "       [-0.20756552, -0.39838002, -0.17893753,  0.35460046]])"
      ]
     },
     "metadata": {},
     "output_type": "display_data"
    }
   ],
   "source": [
    "random_matrix = make_spd_matrix(n_dim=4, random_state=123)\n",
    "display(random_matrix)"
   ]
  },
  {
   "cell_type": "markdown",
   "metadata": {},
   "source": [
    "Проверим случайную матрицу на обратимость."
   ]
  },
  {
   "cell_type": "code",
   "execution_count": 17,
   "metadata": {},
   "outputs": [
    {
     "data": {
      "text/plain": [
       "array([[ 2.97675307,  0.09601407, -0.43363796,  1.63149048],\n",
       "       [ 0.09601407,  1.02415391, -1.2595126 ,  0.57122764],\n",
       "       [-0.43363796, -1.2595126 ,  2.39108163, -0.46226306],\n",
       "       [ 1.63149048,  0.57122764, -0.46226306,  4.18355526]])"
      ]
     },
     "metadata": {},
     "output_type": "display_data"
    }
   ],
   "source": [
    "display(np.linalg.inv(random_matrix))"
   ]
  },
  {
   "cell_type": "markdown",
   "metadata": {},
   "source": [
    "Ошибки не возникло, значит матрица обратима.\n",
    "\n",
    "Умножим матрицу признаков features_matrix на матрицу random_matrix. Результат сохраним в переменной code_matrix."
   ]
  },
  {
   "cell_type": "code",
   "execution_count": 18,
   "metadata": {},
   "outputs": [
    {
     "data": {
      "text/plain": [
       "array([[11732.81637505, 84933.45064883, 65891.66076973, -8891.48812605],\n",
       "       [ 8993.72209566, 65117.27663171, 50506.23330695, -6817.59709104],\n",
       "       [ 4971.62518218, 35997.77683511, 27917.55715724, -3769.24118958],\n",
       "       ...,\n",
       "       [ 8015.50120409, 58022.29145405, 45020.71229678, -6073.24072949],\n",
       "       [ 7732.99714812, 55977.18802921, 43431.73312289, -5859.16541635],\n",
       "       [ 9601.91300269, 69503.96501156, 53926.01646352, -7275.87139908]])"
      ]
     },
     "metadata": {},
     "output_type": "display_data"
    }
   ],
   "source": [
    "code_matrix = features_matrix @ random_matrix\n",
    "display(code_matrix)"
   ]
  },
  {
   "cell_type": "code",
   "execution_count": 19,
   "metadata": {},
   "outputs": [
    {
     "data": {
      "text/plain": [
       "numpy.ndarray"
      ]
     },
     "metadata": {},
     "output_type": "display_data"
    }
   ],
   "source": [
    "display(type(code_matrix))"
   ]
  },
  {
   "cell_type": "markdown",
   "metadata": {},
   "source": [
    "4.2. Обучение модели\n",
    "Исходные данные\n",
    "Сначала обучим модель линейной регрессии на исходных данных.\n",
    "\n",
    "Разделим исходные данные на 2 выборки: обучающую и валидационную."
   ]
  },
  {
   "cell_type": "code",
   "execution_count": 20,
   "metadata": {},
   "outputs": [],
   "source": [
    "features_train, features_valid, target_train, target_valid = train_test_split(features, \n",
    "                                                                              target, \n",
    "                                                                              train_size=0.75, \n",
    "                                                                              test_size=0.25, \n",
    "                                                                              random_state=123)"
   ]
  },
  {
   "cell_type": "markdown",
   "metadata": {},
   "source": [
    "Выведем на экран размер выборок."
   ]
  },
  {
   "cell_type": "code",
   "execution_count": 21,
   "metadata": {},
   "outputs": [
    {
     "name": "stdout",
     "output_type": "stream",
     "text": [
      "features_train: (3635, 4)\n",
      "target_train: (3635,)\n",
      "\n",
      "features_valid: (1212, 4)\n",
      "target_valid: (1212,)\n"
     ]
    }
   ],
   "source": [
    "print('features_train:', features_train.shape) \n",
    "print('target_train:', target_train.shape)\n",
    "\n",
    "print('')\n",
    "\n",
    "print('features_valid:', features_valid.shape)\n",
    "print('target_valid:', target_valid.shape)"
   ]
  },
  {
   "cell_type": "markdown",
   "metadata": {},
   "source": [
    "Обучим модель линейной регрессии и посчитаем метрику R2."
   ]
  },
  {
   "cell_type": "code",
   "execution_count": 22,
   "metadata": {},
   "outputs": [
    {
     "name": "stdout",
     "output_type": "stream",
     "text": [
      "Метрика R2 до преобразования данных: 0.40978958053663006\n"
     ]
    }
   ],
   "source": [
    "model_raw = LinearRegression()\n",
    "model_raw.fit(features_train, target_train)\n",
    "predictions_raw = model_raw.predict(features_valid)\n",
    "r2_raw = r2_score(target_valid, predictions_raw)\n",
    "\n",
    "print('Метрика R2 до преобразования данных:', r2_raw)"
   ]
  },
  {
   "cell_type": "markdown",
   "metadata": {},
   "source": [
    "Метрика R2 не равно 0 и не больше 1, значит модель работает.\n",
    "\n",
    "Проверим метрику на преобразованных данных."
   ]
  },
  {
   "cell_type": "markdown",
   "metadata": {},
   "source": [
    "Преобразованные данные"
   ]
  },
  {
   "cell_type": "code",
   "execution_count": 23,
   "metadata": {},
   "outputs": [],
   "source": [
    "features_train_encoded, features_valid_encoded, target_train_encoded, target_valid_encoded = train_test_split(\n",
    "    code_matrix, target, train_size=0.75, test_size=0.25, random_state=123)"
   ]
  },
  {
   "cell_type": "markdown",
   "metadata": {},
   "source": [
    "Выведем на экран размер выборок."
   ]
  },
  {
   "cell_type": "code",
   "execution_count": 24,
   "metadata": {
    "scrolled": true
   },
   "outputs": [
    {
     "name": "stdout",
     "output_type": "stream",
     "text": [
      "features_train_encoded: (3635, 4)\n",
      "target_train_encoded: (3635,)\n",
      "\n",
      "features_valid_encoded: (1212, 4)\n",
      "target_valid_encoded: (1212,)\n"
     ]
    }
   ],
   "source": [
    "print('features_train_encoded:', features_train_encoded.shape) \n",
    "print('target_train_encoded:', target_train_encoded.shape)\n",
    "\n",
    "print('')\n",
    "\n",
    "print('features_valid_encoded:', features_valid_encoded.shape)\n",
    "print('target_valid_encoded:', target_valid_encoded.shape)"
   ]
  },
  {
   "cell_type": "markdown",
   "metadata": {},
   "source": [
    "Обучим модель линейной регрессии."
   ]
  },
  {
   "cell_type": "code",
   "execution_count": 25,
   "metadata": {},
   "outputs": [
    {
     "name": "stdout",
     "output_type": "stream",
     "text": [
      "Метрика R2 после преобразования данных: 0.40978958053640513\n"
     ]
    }
   ],
   "source": [
    "model_encoded = LinearRegression()\n",
    "model_encoded.fit(features_train_encoded, target_train_encoded)\n",
    "predictions_encoded = model_encoded.predict(features_valid_encoded)\n",
    "\n",
    "r2_encoded = r2_score(target_valid_encoded, predictions_encoded)\n",
    "print('Метрика R2 после преобразования данных:', r2_encoded)"
   ]
  },
  {
   "cell_type": "markdown",
   "metadata": {},
   "source": [
    "Сравним результат метрики R2 до и после преобразования данных."
   ]
  },
  {
   "cell_type": "code",
   "execution_count": 26,
   "metadata": {},
   "outputs": [
    {
     "name": "stdout",
     "output_type": "stream",
     "text": [
      "Метрика R2 до преобразования данных: 0.40978958053663006\n",
      "Метрика R2 после преобразования данных: 0.40978958053640513\n"
     ]
    }
   ],
   "source": [
    "print('Метрика R2 до преобразования данных:', r2_raw)\n",
    "print('Метрика R2 после преобразования данных:', r2_encoded)"
   ]
  },
  {
   "cell_type": "markdown",
   "metadata": {},
   "source": [
    "Метрики практически идентичны, качество модели линейной регрессии после преобразования данных не изменилось. "
   ]
  },
  {
   "cell_type": "markdown",
   "metadata": {},
   "source": [
    "## Вывод:"
   ]
  },
  {
   "cell_type": "markdown",
   "metadata": {},
   "source": [
    "* загрузили и провели анализ данных.\n",
    "* доказали математически, что качество линейной регрессии не изменилось, при умножении признаков на обратимую матрицу.\n",
    "* предложили алгоритм преобразования данных и протестировали его работу. \n",
    "* показали, что качество модели линейной регрессии после преобразования данных не изменилось."
   ]
  },
  {
   "cell_type": "markdown",
   "metadata": {},
   "source": [
   
